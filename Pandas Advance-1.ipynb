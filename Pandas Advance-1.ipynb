{
 "cells": [
  {
   "cell_type": "code",
   "execution_count": 1,
   "id": "a3e164fe",
   "metadata": {},
   "outputs": [
    {
     "data": {
      "text/plain": [
       "'read_csv(): This function is used to read CSV files and create a DataFrame object. The execution is as follows:'"
      ]
     },
     "execution_count": 1,
     "metadata": {},
     "output_type": "execute_result"
    }
   ],
   "source": [
    "# Q1. List any five functions of the pandas library with execution.\n",
    "'''read_csv(): This function is used to read CSV files and create a DataFrame object. The execution is as follows:'''"
   ]
  },
  {
   "cell_type": "code",
   "execution_count": null,
   "id": "e13c8d00",
   "metadata": {},
   "outputs": [],
   "source": [
    "import pandas as pd\n",
    "\n",
    "# Reading the CSV file\n",
    "df = pd.read_csv('file_name.csv')\n",
    "\n",
    "# Displaying the DataFrame\n",
    "print(df)\n"
   ]
  },
  {
   "cell_type": "code",
   "execution_count": null,
   "id": "c13eab1b",
   "metadata": {},
   "outputs": [],
   "source": [
    "# head(): This function is used to display the first n rows of a DataFrame. The execution is as follows:\n",
    "import pandas as pd\n",
    "\n",
    "# Reading the CSV file\n",
    "df = pd.read_csv('file_name.csv')\n",
    "\n",
    "# Displaying the first 5 rows of the DataFrame\n",
    "print(df.head())\n"
   ]
  },
  {
   "cell_type": "code",
   "execution_count": null,
   "id": "9ef6c392",
   "metadata": {},
   "outputs": [],
   "source": [
    "# describe(): This function is used to generate descriptive statistics of a DataFrame. The execution is as follows:\n",
    "import pandas as pd\n",
    "\n",
    "# Reading the CSV file\n",
    "df = pd.read_csv('file_name.csv')\n",
    "\n",
    "# Displaying the descriptive statistics of the DataFrame\n",
    "print(df.describe())\n"
   ]
  },
  {
   "cell_type": "code",
   "execution_count": null,
   "id": "d053fe30",
   "metadata": {},
   "outputs": [],
   "source": [
    "# import pandas as pd\n",
    "\n",
    "# Reading the CSV file\n",
    "df = pd.read_csv('file_name.csv')\n",
    "\n",
    "# Displaying the descriptive statistics of the DataFrame\n",
    "print(df.describe())\n",
    "\n",
    "\n",
    "'''groupby(): This function is used to group the rows of a DataFrame based on a specific column. The execution is as follows:'''"
   ]
  },
  {
   "cell_type": "code",
   "execution_count": null,
   "id": "0f16526c",
   "metadata": {},
   "outputs": [],
   "source": [
    "'''to_csv(): This function is used to write a DataFrame to a CSV file. The execution is as follows:'''\n",
    "import pandas as pd\n",
    "\n",
    "# Reading the CSV file\n",
    "df = pd.read_csv('file_name.csv')\n",
    "\n",
    "# Writing the DataFrame to a CSV file\n",
    "df.to_csv('new_file_name.csv', index=False)\n"
   ]
  },
  {
   "cell_type": "code",
   "execution_count": 4,
   "id": "49ca5295",
   "metadata": {},
   "outputs": [],
   "source": [
    "# Q2. Given a Pandas DataFrame df with columns 'A', 'B', and 'C', write a Python function to re-index the\n",
    "#   DataFrame with a new index that starts from 1 and increments by 2 for each row.\n",
    "import pandas as pd\n",
    "\n",
    "def reindex_df(df):\n",
    "    # Resetting the index to default\n",
    "    df.reset_index(drop=True, inplace=True)\n",
    "\n",
    "    # Creating a new index that starts from 1 and increments by 2 for each row\n",
    "    new_index = pd.RangeIndex(start=1, stop=2*len(df), step=2)\n",
    "\n",
    "    # Assigning the new index to the DataFrame\n",
    "    df.index = new_index\n",
    "\n",
    "    # Returning the re-indexed DataFrame\n",
    "    return df\n"
   ]
  },
  {
   "cell_type": "code",
   "execution_count": 5,
   "id": "1a43bd5a",
   "metadata": {},
   "outputs": [
    {
     "name": "stdout",
     "output_type": "stream",
     "text": [
      "   A  B  C\n",
      "1  1  4  7\n",
      "3  2  5  8\n",
      "5  3  6  9\n"
     ]
    }
   ],
   "source": [
    "# Creating a sample DataFrame\n",
    "df = pd.DataFrame({'A': [1, 2, 3], 'B': [4, 5, 6], 'C': [7, 8, 9]})\n",
    "\n",
    "# Calling the reindex_df function\n",
    "reindexed_df = reindex_df(df)\n",
    "\n",
    "# Displaying the re-indexed DataFrame\n",
    "print(reindexed_df)\n"
   ]
  },
  {
   "cell_type": "code",
   "execution_count": 6,
   "id": "5c93272a",
   "metadata": {},
   "outputs": [
    {
     "data": {
      "text/plain": [
       "\"Q3. You have a Pandas DataFrame df with a column named 'Values'. Write a Python function that\\niterates over the DataFrame and calculates the sum of the first three values in the 'Values' column. The\\nfunction should print the sum to the console.\""
      ]
     },
     "execution_count": 6,
     "metadata": {},
     "output_type": "execute_result"
    }
   ],
   "source": [
    "'''Q3. You have a Pandas DataFrame df with a column named 'Values'. Write a Python function that\n",
    "iterates over the DataFrame and calculates the sum of the first three values in the 'Values' column. The\n",
    "function should print the sum to the console.'''"
   ]
  },
  {
   "cell_type": "code",
   "execution_count": 7,
   "id": "227f5ca5",
   "metadata": {},
   "outputs": [],
   "source": [
    "import pandas as pd\n",
    "\n",
    "def sum_first_three_values(df):\n",
    "    # Initializing a variable to store the sum of the first three values\n",
    "    total = 0\n",
    "\n",
    "    # Iterating over the first three rows of the 'Values' column\n",
    "    for i in range(3):\n",
    "        total += df.loc[i, 'Values']\n",
    "\n",
    "    # Printing the sum of the first three values to the console\n",
    "    print(\"The sum of the first three values in the 'Values' column is:\", total)\n"
   ]
  },
  {
   "cell_type": "code",
   "execution_count": 8,
   "id": "44eb8f20",
   "metadata": {},
   "outputs": [
    {
     "name": "stdout",
     "output_type": "stream",
     "text": [
      "The sum of the first three values in the 'Values' column is: 6\n"
     ]
    }
   ],
   "source": [
    "# Creating a sample DataFrame\n",
    "df = pd.DataFrame({'Values': [1, 2, 3, 4, 5]})\n",
    "\n",
    "# Calling the sum_first_three_values function\n",
    "sum_first_three_values(df)\n"
   ]
  },
  {
   "cell_type": "code",
   "execution_count": 9,
   "id": "fdd83b70",
   "metadata": {},
   "outputs": [],
   "source": [
    "import pandas as pd\n",
    "\n",
    "def sum_first_three_values(df):\n",
    "    # Initializing a variable to store the sum of the first three values\n",
    "    sum_values = 0\n",
    "\n",
    "    # Iterating over the DataFrame and calculating the sum of the first three values\n",
    "    for i, row in df.iterrows():\n",
    "        if i < 3:\n",
    "            sum_values += row['Values']\n",
    "        else:\n",
    "            break\n",
    "\n",
    "    # Printing the sum of the first three values to the console\n",
    "    print(\"Sum of the first three values: \", sum_values)\n"
   ]
  },
  {
   "cell_type": "code",
   "execution_count": 10,
   "id": "974bdeeb",
   "metadata": {},
   "outputs": [
    {
     "name": "stdout",
     "output_type": "stream",
     "text": [
      "Sum of the first three values:  60\n"
     ]
    }
   ],
   "source": [
    "# Creating a sample DataFrame\n",
    "df = pd.DataFrame({'Values': [10, 20, 30, 40, 50]})\n",
    "\n",
    "# Calling the sum_first_three_values function\n",
    "sum_first_three_values(df)\n"
   ]
  },
  {
   "cell_type": "code",
   "execution_count": 11,
   "id": "cf80e29f",
   "metadata": {},
   "outputs": [
    {
     "data": {
      "text/plain": [
       "\"Q4. Given a Pandas DataFrame df with a column 'Text', write a Python function to create a new column\\n'Word_Count' that contains the number of words in each row of the 'Text' column.\""
      ]
     },
     "execution_count": 11,
     "metadata": {},
     "output_type": "execute_result"
    }
   ],
   "source": [
    "'''Q4. Given a Pandas DataFrame df with a column 'Text', write a Python function to create a new column\n",
    "'Word_Count' that contains the number of words in each row of the 'Text' column.'''"
   ]
  },
  {
   "cell_type": "code",
   "execution_count": 12,
   "id": "40e90631",
   "metadata": {},
   "outputs": [],
   "source": [
    "import pandas as pd\n",
    "\n",
    "def add_word_count_column(df):\n",
    "    # Creating a new column 'Word_Count' that contains the number of words in each row of the 'Text' column\n",
    "    df['Word_Count'] = df['Text'].apply(lambda x: len(str(x).split()))\n",
    "\n",
    "    # Returning the updated DataFrame\n",
    "    return df\n"
   ]
  },
  {
   "cell_type": "code",
   "execution_count": 13,
   "id": "ca57c9c1",
   "metadata": {},
   "outputs": [
    {
     "name": "stdout",
     "output_type": "stream",
     "text": [
      "                              Text  Word_Count\n",
      "0            This is a sample text           5\n",
      "1  with multiple words in each row           6\n",
      "2     to count the number of words           6\n"
     ]
    }
   ],
   "source": [
    "# Creating a sample DataFrame\n",
    "df = pd.DataFrame({'Text': ['This is a sample text', 'with multiple words in each row', 'to count the number of words']})\n",
    "\n",
    "# Calling the add_word_count_column function\n",
    "df = add_word_count_column(df)\n",
    "\n",
    "# Displaying the updated DataFrame\n",
    "print(df)\n"
   ]
  },
  {
   "cell_type": "code",
   "execution_count": 14,
   "id": "1834d79b",
   "metadata": {},
   "outputs": [
    {
     "data": {
      "text/plain": [
       "'DataFrame.size and DataFrame.shape are both attributes of a Pandas DataFrame that can be used to get information about the size of the DataFrame, but they provide different information.\\n\\nDataFrame.size returns the number of elements in the DataFrame, which is the product of the number of rows and columns:'"
      ]
     },
     "execution_count": 14,
     "metadata": {},
     "output_type": "execute_result"
    }
   ],
   "source": [
    "# Q5. How are DataFrame.size() and DataFrame.shape() different?\n",
    "'''DataFrame.size and DataFrame.shape are both attributes of a Pandas DataFrame that can be used to get information about the size of the DataFrame, but they provide different information.\n",
    "\n",
    "DataFrame.size returns the number of elements in the DataFrame, which is the product of the number of rows and columns:'''"
   ]
  },
  {
   "cell_type": "code",
   "execution_count": 15,
   "id": "fe77ff88",
   "metadata": {},
   "outputs": [
    {
     "name": "stdout",
     "output_type": "stream",
     "text": [
      "9\n"
     ]
    }
   ],
   "source": [
    "import pandas as pd\n",
    "\n",
    "# Creating a sample DataFrame\n",
    "df = pd.DataFrame({'A': [1, 2, 3], 'B': [4, 5, 6], 'C': [7, 8, 9]})\n",
    "\n",
    "# Getting the size of the DataFrame\n",
    "print(df.size) # Output: 9\n"
   ]
  },
  {
   "cell_type": "code",
   "execution_count": 16,
   "id": "fbf8264f",
   "metadata": {},
   "outputs": [
    {
     "data": {
      "text/plain": [
       "'DataFrame.shape returns a tuple containing the number of rows and columns in the DataFrame:'"
      ]
     },
     "execution_count": 16,
     "metadata": {},
     "output_type": "execute_result"
    }
   ],
   "source": [
    "'''DataFrame.shape returns a tuple containing the number of rows and columns in the DataFrame:'''"
   ]
  },
  {
   "cell_type": "code",
   "execution_count": 17,
   "id": "399331f6",
   "metadata": {},
   "outputs": [
    {
     "name": "stdout",
     "output_type": "stream",
     "text": [
      "(3, 3)\n"
     ]
    }
   ],
   "source": [
    "import pandas as pd\n",
    "\n",
    "# Creating a sample DataFrame\n",
    "df = pd.DataFrame({'A': [1, 2, 3], 'B': [4, 5, 6], 'C': [7, 8, 9]})\n",
    "\n",
    "# Getting the shape of the DataFrame\n",
    "print(df.shape) # Output: (3, 3)\n"
   ]
  },
  {
   "cell_type": "code",
   "execution_count": 18,
   "id": "3eafa686",
   "metadata": {},
   "outputs": [
    {
     "data": {
      "text/plain": [
       "'To read an Excel file using Pandas, we use the read_excel() function. This function is part of the Pandas IO tools, and can read data from Excel files in various formats including .xls and .xlsx.'"
      ]
     },
     "execution_count": 18,
     "metadata": {},
     "output_type": "execute_result"
    }
   ],
   "source": [
    "# Q6. Which function of pandas do we use to read an excel file?\n",
    "'''To read an Excel file using Pandas, we use the read_excel() function. This function is part of the Pandas IO tools, and can read data from Excel files in various formats including .xls and .xlsx.'''"
   ]
  },
  {
   "cell_type": "code",
   "execution_count": null,
   "id": "f9124a71",
   "metadata": {},
   "outputs": [],
   "source": [
    "import pandas as pd\n",
    "\n",
    "# Reading an Excel file named \"sample.xlsx\" into a Pandas DataFrame\n",
    "df = pd.read_excel(\"sample.xlsx\")\n",
    "\n",
    "# Displaying the DataFrame\n",
    "print(df)\n"
   ]
  },
  {
   "cell_type": "code",
   "execution_count": 20,
   "id": "230f2e98",
   "metadata": {},
   "outputs": [
    {
     "data": {
      "text/plain": [
       "\"Q7. You have a Pandas DataFrame df that contains a column named 'Email' that contains email\\naddresses in the format 'username@domain.com'. Write a Python function that creates a new column\\n'Username' in df that contains only the username part of each email address.\\nThe username is the part of the email address that appears before the '@' symbol. For example, if the\\nemail address is 'john.doe@example.com', the 'Username' column should contain 'john.doe'. Your\\nfunction should extract the username from each email address and store it in the new 'Username'\\ncolumn.\""
      ]
     },
     "execution_count": 20,
     "metadata": {},
     "output_type": "execute_result"
    }
   ],
   "source": [
    "'''Q7. You have a Pandas DataFrame df that contains a column named 'Email' that contains email\n",
    "addresses in the format 'username@domain.com'. Write a Python function that creates a new column\n",
    "'Username' in df that contains only the username part of each email address.\n",
    "The username is the part of the email address that appears before the '@' symbol. For example, if the\n",
    "email address is 'john.doe@example.com', the 'Username' column should contain 'john.doe'. Your\n",
    "function should extract the username from each email address and store it in the new 'Username'\n",
    "column.'''"
   ]
  },
  {
   "cell_type": "code",
   "execution_count": 21,
   "id": "d3cde5fb",
   "metadata": {},
   "outputs": [],
   "source": [
    "import pandas as pd\n",
    "\n",
    "def extract_username(df):\n",
    "    # Creating a new column 'Username' that contains only the username part of each email address\n",
    "    df['Username'] = df['Email'].apply(lambda x: x.split('@')[0])\n",
    "\n",
    "    # Returning the updated DataFrame\n",
    "    return df\n"
   ]
  },
  {
   "cell_type": "code",
   "execution_count": 22,
   "id": "134afd11",
   "metadata": {},
   "outputs": [
    {
     "name": "stdout",
     "output_type": "stream",
     "text": [
      "                   Email   Username\n",
      "0   john.doe@example.com   john.doe\n",
      "1   jane.doe@example.com   jane.doe\n",
      "2  bob.smith@example.com  bob.smith\n"
     ]
    }
   ],
   "source": [
    "# Creating a sample DataFrame\n",
    "df = pd.DataFrame({'Email': ['john.doe@example.com', 'jane.doe@example.com', 'bob.smith@example.com']})\n",
    "\n",
    "# Calling the extract_username function\n",
    "df = extract_username(df)\n",
    "\n",
    "# Displaying the updated DataFrame\n",
    "print(df)\n"
   ]
  },
  {
   "cell_type": "code",
   "execution_count": 23,
   "id": "558a3e62",
   "metadata": {},
   "outputs": [
    {
     "data": {
      "text/plain": [
       "\"Q8. You have a Pandas DataFrame df with columns 'A', 'B', and 'C'. Write a Python function that selects\\nall rows where the value in column 'A' is greater than 5 and the value in column 'B' is less than 10. The\\nfunction should return a new DataFrame that contains only the selected rows.\\nFor example, if df contains the following values:\\nA B C\\n0 3 5 1\\n1 8 2 7\\n2 6 9 4\\n3 2 3 5\\n4 9 1 2\\nYour function should select the following rows: A B C\\n1 8 2 7\\n4 9 1 2\\nThe function should return a new DataFrame that contains only the selected rows.\""
      ]
     },
     "execution_count": 23,
     "metadata": {},
     "output_type": "execute_result"
    }
   ],
   "source": [
    "'''Q8. You have a Pandas DataFrame df with columns 'A', 'B', and 'C'. Write a Python function that selects\n",
    "all rows where the value in column 'A' is greater than 5 and the value in column 'B' is less than 10. The\n",
    "function should return a new DataFrame that contains only the selected rows.\n",
    "For example, if df contains the following values:\n",
    "A B C\n",
    "0 3 5 1\n",
    "1 8 2 7\n",
    "2 6 9 4\n",
    "3 2 3 5\n",
    "4 9 1 2\n",
    "Your function should select the following rows: A B C\n",
    "1 8 2 7\n",
    "4 9 1 2\n",
    "The function should return a new DataFrame that contains only the selected rows.'''"
   ]
  },
  {
   "cell_type": "code",
   "execution_count": 24,
   "id": "eb8da90c",
   "metadata": {},
   "outputs": [],
   "source": [
    "import pandas as pd\n",
    "\n",
    "def select_rows(df):\n",
    "    # Selecting rows where the value in column 'A' is greater than 5 and the value in column 'B' is less than 10\n",
    "    new_df = df[(df['A'] > 5) & (df['B'] < 10)]\n",
    "\n",
    "    # Returning the new DataFrame\n",
    "    return new_df\n"
   ]
  },
  {
   "cell_type": "code",
   "execution_count": 25,
   "id": "8b947200",
   "metadata": {},
   "outputs": [
    {
     "name": "stdout",
     "output_type": "stream",
     "text": [
      "   A  B  C\n",
      "1  8  2  7\n",
      "2  6  9  4\n",
      "4  9  1  2\n"
     ]
    }
   ],
   "source": [
    "# Creating a sample DataFrame\n",
    "df = pd.DataFrame({'A': [3, 8, 6, 2, 9], 'B': [5, 2, 9, 3, 1], 'C': [1, 7, 4, 5, 2]})\n",
    "\n",
    "# Calling the select_rows function\n",
    "new_df = select_rows(df)\n",
    "\n",
    "# Displaying the new DataFrame\n",
    "print(new_df)\n"
   ]
  },
  {
   "cell_type": "code",
   "execution_count": 26,
   "id": "ae19d17e",
   "metadata": {},
   "outputs": [
    {
     "data": {
      "text/plain": [
       "\"Q9. Given a Pandas DataFrame df with a column 'Values', write a Python function to calculate the mean,\\nmedian, and standard deviation of the values in the 'Values' column.\""
      ]
     },
     "execution_count": 26,
     "metadata": {},
     "output_type": "execute_result"
    }
   ],
   "source": [
    "'''Q9. Given a Pandas DataFrame df with a column 'Values', write a Python function to calculate the mean,\n",
    "median, and standard deviation of the values in the 'Values' column.'''"
   ]
  },
  {
   "cell_type": "code",
   "execution_count": 27,
   "id": "7fc7f0c4",
   "metadata": {},
   "outputs": [],
   "source": [
    "import pandas as pd\n",
    "\n",
    "def calculate_stats(df):\n",
    "    # Calculating the mean, median, and standard deviation of the values in the 'Values' column\n",
    "    mean = df['Values'].mean()\n",
    "    median = df['Values'].median()\n",
    "    std = df['Values'].std()\n",
    "\n",
    "    # Printing the calculated statistics\n",
    "    print(\"Mean:\", mean)\n",
    "    print(\"Median:\", median)\n",
    "    print(\"Standard Deviation:\", std)\n"
   ]
  },
  {
   "cell_type": "code",
   "execution_count": 28,
   "id": "37cc3774",
   "metadata": {},
   "outputs": [
    {
     "name": "stdout",
     "output_type": "stream",
     "text": [
      "Mean: 30.0\n",
      "Median: 30.0\n",
      "Standard Deviation: 15.811388300841896\n"
     ]
    }
   ],
   "source": [
    "# Creating a sample DataFrame\n",
    "df = pd.DataFrame({'Values': [10, 20, 30, 40, 50]})\n",
    "\n",
    "# Calling the calculate_stats function\n",
    "calculate_stats(df)\n"
   ]
  },
  {
   "cell_type": "code",
   "execution_count": 29,
   "id": "eb2428a5",
   "metadata": {},
   "outputs": [
    {
     "data": {
      "text/plain": [
       "\"Q10. Given a Pandas DataFrame df with a column 'Sales' and a column 'Date', write a Python function to\\ncreate a new column 'MovingAverage' that contains the moving average of the sales for the past 7 days\\nfor each row in the DataFrame. The moving average should be calculated using a window of size 7 and\\nshould include the current day.\""
      ]
     },
     "execution_count": 29,
     "metadata": {},
     "output_type": "execute_result"
    }
   ],
   "source": [
    "'''Q10. Given a Pandas DataFrame df with a column 'Sales' and a column 'Date', write a Python function to\n",
    "create a new column 'MovingAverage' that contains the moving average of the sales for the past 7 days\n",
    "for each row in the DataFrame. The moving average should be calculated using a window of size 7 and\n",
    "should include the current day.'''"
   ]
  },
  {
   "cell_type": "code",
   "execution_count": 30,
   "id": "98af6482",
   "metadata": {},
   "outputs": [],
   "source": [
    "import pandas as pd\n",
    "\n",
    "def calculate_moving_average(df):\n",
    "    # Setting the 'Date' column as the index\n",
    "    df.set_index('Date', inplace=True)\n",
    "\n",
    "    # Calculating the moving average using a rolling window of size 7\n",
    "    rolling_average = df['Sales'].rolling(window=7, min_periods=1).mean()\n",
    "\n",
    "    # Adding the moving average values to a new column 'MovingAverage'\n",
    "    df['MovingAverage'] = rolling_average.values\n",
    "\n",
    "    # Resetting the index to the default integer index\n",
    "    df.reset_index(inplace=True)\n",
    "\n",
    "    # Returning the modified DataFrame\n",
    "    return df\n"
   ]
  },
  {
   "cell_type": "code",
   "execution_count": 31,
   "id": "516b9079",
   "metadata": {},
   "outputs": [
    {
     "name": "stdout",
     "output_type": "stream",
     "text": [
      "        Date  Sales  MovingAverage\n",
      "0 2022-01-01     10           10.0\n",
      "1 2022-01-02     20           15.0\n",
      "2 2022-01-03     30           20.0\n",
      "3 2022-01-04     40           25.0\n",
      "4 2022-01-05     50           30.0\n",
      "5 2022-01-06     60           35.0\n",
      "6 2022-01-07     70           40.0\n",
      "7 2022-01-08     80           50.0\n",
      "8 2022-01-09     90           60.0\n",
      "9 2022-01-10    100           70.0\n"
     ]
    }
   ],
   "source": [
    "# Creating a sample DataFrame\n",
    "df = pd.DataFrame({\n",
    "    'Sales': [10, 20, 30, 40, 50, 60, 70, 80, 90, 100],\n",
    "    'Date': pd.date_range(start='2022-01-01', periods=10, freq='D')\n",
    "})\n",
    "\n",
    "# Calling the calculate_moving_average function\n",
    "df = calculate_moving_average(df)\n",
    "\n",
    "# Printing the modified DataFrame\n",
    "print(df)\n"
   ]
  },
  {
   "cell_type": "code",
   "execution_count": 32,
   "id": "85702b8b",
   "metadata": {},
   "outputs": [
    {
     "data": {
      "text/plain": [
       "\"Q11. You have a Pandas DataFrame df with a column 'Date'. Write a Python function that creates a new\\ncolumn 'Weekday' in the DataFrame. The 'Weekday' column should contain the weekday name (e.g.\\nMonday, Tuesday) corresponding to each date in the 'Date' column.\\nFor example, if df contains the following values:\\nDate\\n0 2023-01-01\\n1 2023-01-02\\n2 2023-01-03\\n3 2023-01-04\\n4 2023-01-05\\nYour function should create the following DataFrame:\\n\\nDate Weekday\\n0 2023-01-01 Sunday\\n1 2023-01-02 Monday\\n2 2023-01-03 Tuesday\\n3 2023-01-04 Wednesday\\n4 2023-01-05 Thursday\\nThe function should return the modified DataFrame.\""
      ]
     },
     "execution_count": 32,
     "metadata": {},
     "output_type": "execute_result"
    }
   ],
   "source": [
    "'''Q11. You have a Pandas DataFrame df with a column 'Date'. Write a Python function that creates a new\n",
    "column 'Weekday' in the DataFrame. The 'Weekday' column should contain the weekday name (e.g.\n",
    "Monday, Tuesday) corresponding to each date in the 'Date' column.\n",
    "For example, if df contains the following values:\n",
    "Date\n",
    "0 2023-01-01\n",
    "1 2023-01-02\n",
    "2 2023-01-03\n",
    "3 2023-01-04\n",
    "4 2023-01-05\n",
    "Your function should create the following DataFrame:\n",
    "\n",
    "Date Weekday\n",
    "0 2023-01-01 Sunday\n",
    "1 2023-01-02 Monday\n",
    "2 2023-01-03 Tuesday\n",
    "3 2023-01-04 Wednesday\n",
    "4 2023-01-05 Thursday\n",
    "The function should return the modified DataFrame.'''"
   ]
  },
  {
   "cell_type": "code",
   "execution_count": 33,
   "id": "f4f78c55",
   "metadata": {},
   "outputs": [],
   "source": [
    "import pandas as pd\n",
    "\n",
    "def add_weekday(df):\n",
    "    df['Weekday'] = pd.to_datetime(df['Date']).dt.weekday_name\n",
    "    return df\n"
   ]
  },
  {
   "cell_type": "code",
   "execution_count": 34,
   "id": "dc26b705",
   "metadata": {},
   "outputs": [],
   "source": [
    "df = pd.DataFrame({'Date': ['2023-01-01', '2023-01-02', '2023-01-03', '2023-01-04', '2023-01-05']})\n"
   ]
  },
  {
   "cell_type": "code",
   "execution_count": 35,
   "id": "2f08afd3",
   "metadata": {},
   "outputs": [
    {
     "name": "stdout",
     "output_type": "stream",
     "text": [
      "         Date\n",
      "0  2023-01-01\n",
      "1  2023-01-02\n",
      "2  2023-01-03\n",
      "3  2023-01-04\n",
      "4  2023-01-05\n"
     ]
    }
   ],
   "source": [
    "print(df)\n"
   ]
  },
  {
   "cell_type": "code",
   "execution_count": 36,
   "id": "b83f055c",
   "metadata": {},
   "outputs": [
    {
     "data": {
      "text/plain": [
       "\"Q12. Given a Pandas DataFrame df with a column 'Date' that contains timestamps, write a Python\\nfunction to select all rows where the date is between '2023-01-01' and '2023-01-31'.\""
      ]
     },
     "execution_count": 36,
     "metadata": {},
     "output_type": "execute_result"
    }
   ],
   "source": [
    "'''Q12. Given a Pandas DataFrame df with a column 'Date' that contains timestamps, write a Python\n",
    "function to select all rows where the date is between '2023-01-01' and '2023-01-31'.'''"
   ]
  },
  {
   "cell_type": "code",
   "execution_count": 37,
   "id": "e282f54d",
   "metadata": {},
   "outputs": [],
   "source": [
    "import pandas as pd\n",
    "\n",
    "def select_rows_between_dates(df):\n",
    "    start_date = '2023-01-01'\n",
    "    end_date = '2023-01-31'\n",
    "    mask = (df['Date'] >= start_date) & (df['Date'] <= end_date)\n",
    "    selected_rows = df.loc[mask]\n",
    "    return selected_rows\n"
   ]
  },
  {
   "cell_type": "code",
   "execution_count": null,
   "id": "11e6d10b",
   "metadata": {},
   "outputs": [],
   "source": [
    "df = pd.DataFrame({'Date': pd.date_range(start='2023-01-01', end='2023-02-01', freq='D'),\n",
    "                   'Values': [10, 20, 30, 40, 50, 60, 70, 80, 90, 100, 110, 120, 130]})\n",
    "selected_rows = select_rows_between_dates(df)\n",
    "print(selected_rows)\n"
   ]
  },
  {
   "cell_type": "code",
   "execution_count": 40,
   "id": "f9e2bbac",
   "metadata": {},
   "outputs": [
    {
     "data": {
      "text/plain": [
       "\"This function first creates variables for the start and end dates, and then uses these variables to create a boolean mask that is true for rows where the 'Date' column falls within the specified range. The function then uses this mask to select the corresponding rows from the input DataFrame, and returns the resulting DataFrame containing only the selected rows. Note that the loc function is used to index the DataFrame with the boolean mask.\""
      ]
     },
     "execution_count": 40,
     "metadata": {},
     "output_type": "execute_result"
    }
   ],
   "source": [
    "'''This function first creates variables for the start and end dates, and then uses these variables to create a boolean mask that is true for rows where the 'Date' column falls within the specified range. The function then uses this mask to select the corresponding rows from the input DataFrame, and returns the resulting DataFrame containing only the selected rows. Note that the loc function is used to index the DataFrame with the boolean mask.'''"
   ]
  },
  {
   "cell_type": "code",
   "execution_count": 41,
   "id": "8db4517a",
   "metadata": {},
   "outputs": [
    {
     "data": {
      "text/plain": [
       "'Q13. To use the basic functions of pandas, what is the first and foremost necessary library that needs to\\nbe imported?'"
      ]
     },
     "execution_count": 41,
     "metadata": {},
     "output_type": "execute_result"
    }
   ],
   "source": [
    "'''Q13. To use the basic functions of pandas, what is the first and foremost necessary library that needs to\n",
    "be imported?'''"
   ]
  },
  {
   "cell_type": "code",
   "execution_count": 42,
   "id": "2efce7d7",
   "metadata": {},
   "outputs": [
    {
     "data": {
      "text/plain": [
       "'The first and foremost necessary library that needs to be imported to use the basic functions of pandas is pandas itself. The conventional way to import pandas is to use the following statement:\\n\\npython\\n\\nimport pandas as pd\\nThis statement imports the pandas library and aliases it as pd, which is the most common convention used in the pandas community.'"
      ]
     },
     "execution_count": 42,
     "metadata": {},
     "output_type": "execute_result"
    }
   ],
   "source": [
    "'''The first and foremost necessary library that needs to be imported to use the basic functions of pandas is pandas itself. The conventional way to import pandas is to use the following statement:\n",
    "\n",
    "python\n",
    "\n",
    "import pandas as pd\n",
    "This statement imports the pandas library and aliases it as pd, which is the most common convention used in the pandas community.'''"
   ]
  },
  {
   "cell_type": "code",
   "execution_count": 43,
   "id": "66d3e960",
   "metadata": {},
   "outputs": [
    {
     "name": "stdout",
     "output_type": "stream",
     "text": [
      "   A  B  C\n",
      "0  1  4  7\n",
      "1  2  5  8\n",
      "2  3  6  9\n"
     ]
    }
   ],
   "source": [
    "import pandas as pd\n",
    "\n",
    "# create a pandas dataframe\n",
    "df = pd.DataFrame({'A': [1, 2, 3], 'B': [4, 5, 6], 'C': [7, 8, 9]})\n",
    "\n",
    "# print the dataframe\n",
    "print(df)\n"
   ]
  },
  {
   "cell_type": "code",
   "execution_count": null,
   "id": "957055b2",
   "metadata": {},
   "outputs": [],
   "source": []
  }
 ],
 "metadata": {
  "kernelspec": {
   "display_name": "Python 3 (ipykernel)",
   "language": "python",
   "name": "python3"
  },
  "language_info": {
   "codemirror_mode": {
    "name": "ipython",
    "version": 3
   },
   "file_extension": ".py",
   "mimetype": "text/x-python",
   "name": "python",
   "nbconvert_exporter": "python",
   "pygments_lexer": "ipython3",
   "version": "3.9.7"
  }
 },
 "nbformat": 4,
 "nbformat_minor": 5
}
